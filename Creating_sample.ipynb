{
 "cells": [
  {
   "cell_type": "markdown",
   "metadata": {},
   "source": [
    "# Some shit with randomization"
   ]
  },
  {
   "cell_type": "code",
   "execution_count": 1,
   "metadata": {},
   "outputs": [],
   "source": [
    "import random\n",
    "import os\n",
    "from random import randint"
   ]
  },
  {
   "cell_type": "markdown",
   "metadata": {},
   "source": [
    "I used numbers to get 10 families with <=5 sequences"
   ]
  },
  {
   "cell_type": "markdown",
   "metadata": {},
   "source": [
    "##### Choose the numbers of families"
   ]
  },
  {
   "cell_type": "code",
   "execution_count": 29,
   "metadata": {},
   "outputs": [
    {
     "name": "stdout",
     "output_type": "stream",
     "text": [
      "Print number RANGE3115\n",
      "Print size of the sample10\n"
     ]
    }
   ],
   "source": [
    "gen_range, numbers, amount_of_fam = int(input('Print number RANGE')), [], int(input('Print size of the sample'))\n",
    "\n",
    "while amount_of_fam > 0:\n",
    "    number = random.randint(1, gen_range)\n",
    "    if number not in numbers:\n",
    "        numbers.append(number)\n",
    "        amount_of_fam -= 1"
   ]
  },
  {
   "cell_type": "markdown",
   "metadata": {},
   "source": [
    "##### Downloading files"
   ]
  },
  {
   "cell_type": "code",
   "execution_count": 37,
   "metadata": {},
   "outputs": [],
   "source": [
    "with open(\"files_to_download.txt\", 'w') as out:\n",
    "    for num in numbers:\n",
    "        out.write('ftp://ftp.ebi.ac.uk/pub/databases/Rfam/14.1/fasta_files/RF' + ((5 - len(str(num))) * '0' + str(num)) + '.fa.gz' + '\\n')\n",
    "! wget -i \"files_to_download.txt\" -P \"./newfiles/\""
   ]
  },
  {
   "cell_type": "markdown",
   "metadata": {},
   "source": [
    "##### Unpacking and deleting archives"
   ]
  },
  {
   "cell_type": "code",
   "execution_count": 53,
   "metadata": {},
   "outputs": [
    {
     "ename": "FileNotFoundError",
     "evalue": "[Errno 2] No such file or directory: './newfiles/'",
     "output_type": "error",
     "traceback": [
      "\u001b[0;31m---------------------------------------------------------------------------\u001b[0m",
      "\u001b[0;31mFileNotFoundError\u001b[0m                         Traceback (most recent call last)",
      "\u001b[0;32m<ipython-input-53-781224528661>\u001b[0m in \u001b[0;36m<module>\u001b[0;34m()\u001b[0m\n\u001b[0;32m----> 1\u001b[0;31m \u001b[0mos\u001b[0m\u001b[0;34m.\u001b[0m\u001b[0mchdir\u001b[0m\u001b[0;34m(\u001b[0m\u001b[0;34m\"./newfiles/\"\u001b[0m\u001b[0;34m)\u001b[0m\u001b[0;34m\u001b[0m\u001b[0m\n\u001b[0m\u001b[1;32m      2\u001b[0m \u001b[0mget_ipython\u001b[0m\u001b[0;34m(\u001b[0m\u001b[0;34m)\u001b[0m\u001b[0;34m.\u001b[0m\u001b[0msystem\u001b[0m\u001b[0;34m(\u001b[0m\u001b[0;34m' gunzip \"./*.gz\"'\u001b[0m\u001b[0;34m)\u001b[0m\u001b[0;34m\u001b[0m\u001b[0m\n",
      "\u001b[0;31mFileNotFoundError\u001b[0m: [Errno 2] No such file or directory: './newfiles/'"
     ]
    }
   ],
   "source": [
    "os.chdir(\"./newfiles/\")\n",
    "! gunzip *.gz"
   ]
  },
  {
   "cell_type": "markdown",
   "metadata": {},
   "source": [
    "##### Here we determine the number of seq form each family (<=5); in case FOR 10 FAMILIES"
   ]
  },
  {
   "cell_type": "code",
   "execution_count": 5,
   "metadata": {},
   "outputs": [],
   "source": [
    "! grep -c \"^>\" *.fa >> number_of_seqs.txt\n",
    "with open(\"number_of_seqs.txt\", 'r') as fname:\n",
    "    num_of_seq = []\n",
    "    for num in fname:\n",
    "        num_of_seq.append(int(num.strip().split(\":\")[1]))\n",
    "    need_num = min(num_of_seq) if min(num_of_seq) <= 5 else 5"
   ]
  },
  {
   "cell_type": "markdown",
   "metadata": {},
   "source": [
    "##### Now we make our sample :)"
   ]
  },
  {
   "cell_type": "code",
   "execution_count": 93,
   "metadata": {},
   "outputs": [],
   "source": [
    "# need_num\n",
    "# >RNU6-511P_ENSG00000200366.1,0\n",
    "import glob\n",
    "from random import sample\n",
    "from Bio import SeqIO\n",
    "\n",
    "out = open(\"sample.fasta\", 'a')\n",
    "fam_name = 0\n",
    "\n",
    "for file in glob.glob(\"./*.fa\"):\n",
    "    fam = file[2:-3]\n",
    "    record = SeqIO.to_dict(SeqIO.parse(file, \"fasta\"))\n",
    "    sp = random.sample(record.keys(), need_num)\n",
    "    for seq_name in sp:\n",
    "        out.write(\">\" + fam + \"_\" + str(record[seq_name].id).split(\"/\")[0] + \",\" + str(fam_name) + '\\n')\n",
    "        out.write(str(record[seq_name].seq) + '\\n')\n",
    "    fam_name += 1\n",
    "    \n",
    "out.close()"
   ]
  },
  {
   "cell_type": "code",
   "execution_count": 94,
   "metadata": {},
   "outputs": [
    {
     "name": "stdout",
     "output_type": "stream",
     "text": [
      "40\r\n"
     ]
    }
   ],
   "source": [
    "! grep -c \"^>\" sample.fasta"
   ]
  },
  {
   "cell_type": "markdown",
   "metadata": {},
   "source": [
    "##### Making genelabel file"
   ]
  },
  {
   "cell_type": "code",
   "execution_count": 89,
   "metadata": {},
   "outputs": [],
   "source": [
    "from Bio import SeqIO\n",
    "with open(\"genelabel_sample.txt\", 'a') as out:\n",
    "    for record in SeqIO.parse(\"sample.fasta\", \"fasta\"):\n",
    "        iden = str(record.id).split(\",\")\n",
    "        out.write(iden[0] + \":\" + iden[1] + '\\n')"
   ]
  },
  {
   "cell_type": "code",
   "execution_count": 90,
   "metadata": {},
   "outputs": [
    {
     "name": "stdout",
     "output_type": "stream",
     "text": [
      "40\r\n"
     ]
    }
   ],
   "source": [
    "! grep -c \":\" genelabel_sample.txt"
   ]
  },
  {
   "cell_type": "code",
   "execution_count": null,
   "metadata": {},
   "outputs": [],
   "source": []
  }
 ],
 "metadata": {
  "kernelspec": {
   "display_name": "Python 3",
   "language": "python",
   "name": "python3"
  },
  "language_info": {
   "codemirror_mode": {
    "name": "ipython",
    "version": 3
   },
   "file_extension": ".py",
   "mimetype": "text/x-python",
   "name": "python",
   "nbconvert_exporter": "python",
   "pygments_lexer": "ipython3",
   "version": "3.6.5"
  }
 },
 "nbformat": 4,
 "nbformat_minor": 2
}
